{
  "nbformat": 4,
  "nbformat_minor": 0,
  "metadata": {
    "colab": {
      "name": "Untitled79.ipynb",
      "provenance": []
    },
    "kernelspec": {
      "name": "python3",
      "display_name": "Python 3"
    },
    "language_info": {
      "name": "python"
    },
    "accelerator": "GPU"
  },
  "cells": [
    {
      "cell_type": "code",
      "metadata": {
        "id": "oulCVhFptR-i"
      },
      "source": [
        "import tensorflow as tf\n",
        "from tensorflow.keras.datasets import mnist\n",
        "data = mnist.load_data()"
      ],
      "execution_count": 12,
      "outputs": []
    },
    {
      "cell_type": "code",
      "metadata": {
        "id": "aYpfIchvvMz1"
      },
      "source": [
        "import numpy as np\n",
        "import matplotlib\n",
        "matplotlib.use('agg')\n",
        "import matplotlib.pyplot as plt\n",
        "from tensorflow.keras.datasets import mnist\n",
        "from tensorflow.keras.models import Sequential, load_model\n",
        "from tensorflow.keras.layers import Dense, Dropout, Activation\n",
        "from tensorflow.keras import utils as np_utils"
      ],
      "execution_count": 13,
      "outputs": []
    },
    {
      "cell_type": "code",
      "metadata": {
        "id": "oniBIb9qxqXF"
      },
      "source": [
        "(X_train, y_train), (X_test, y_test) = mnist.load_data()"
      ],
      "execution_count": 14,
      "outputs": []
    },
    {
      "cell_type": "code",
      "metadata": {
        "colab": {
          "base_uri": "https://localhost:8080/",
          "height": 284
        },
        "id": "s40clupVyj2e",
        "outputId": "7f4b4f54-6054-4492-f5ee-e6ee2babc0c0"
      },
      "source": [
        "fig = plt.figure()\n",
        "for i in range(9):\n",
        "  plt.subplot(3,3,i+1)\n",
        "  plt.tight_layout()\n",
        "  plt.imshow(X_train[i], cmap='gray', interpolation='none')\n",
        "  plt.title(\"Digit: {}\".format(y_train[i]))\n",
        "  plt.xticks([])\n",
        "  plt.yticks([])\n",
        "fig"
      ],
      "execution_count": 15,
      "outputs": [
        {
          "output_type": "execute_result",
          "data": {
            "image/png": "[encoded data removed]",
            "text/plain": [
              "<Figure size 432x288 with 9 Axes>"
            ]
          },
          "metadata": {
            "tags": []
          },
          "execution_count": 15
        }
      ]
    },
    {
      "cell_type": "code",
      "metadata": {
        "colab": {
          "base_uri": "https://localhost:8080/"
        },
        "id": "aMhaOXc40qcM",
        "outputId": "d79d2fb3-2d9b-4807-e69f-25b7db860039"
      },
      "source": [
        "#lets, print the shape before we reshape and normalize\n",
        "print(\"X_train shape\", X_train.shape)\n",
        "print(\"y_train shape\", y_train.shape)\n",
        "print(\"X_test shape\", X_test.shape)\n",
        "print(\"y_test shape\", y_test.shape)\n",
        "\n",
        "#building the input vector from the 28 * 28 pixels\n",
        "X_train = X_train.reshape(60000, 784)\n",
        "X_test = X_test.reshape(10000, 784)\n",
        "X_train = X_train.astype('float32')\n",
        "X_test = X_test.astype('float32')\n",
        "\n",
        "#normalize the data to help with the training\n",
        "X_train /=255\n",
        "X_test /=255\n",
        "\n",
        "#print the final input shape ready for training\n",
        "print(\"train matrix shape\", X_train.shape)\n",
        "print(\"test matrix shape\", X_test.shape)"
      ],
      "execution_count": 16,
      "outputs": [
        {
          "output_type": "stream",
          "text": [
            "X_train shape (60000, 28, 28)\n",
            "y_train shape (60000,)\n",
            "X_test shape (10000, 28, 28)\n",
            "y_test shape (10000,)\n",
            "train matrix shape (60000, 784)\n",
            "test matrix shape (10000, 784)\n"
          ],
          "name": "stdout"
        }
      ]
    },
    {
      "cell_type": "code",
      "metadata": {
        "colab": {
          "base_uri": "https://localhost:8080/"
        },
        "id": "E2LZIvoW0qoV",
        "outputId": "6f51a78a-fc85-4331-b831-40fdb566ecf8"
      },
      "source": [
        "#one hot encoding using keras' numpy related utilites\n",
        "n_classes = 10\n",
        "print(\"shape before one hot encoding: \",y_train.shape)\n",
        "Y_train = np_utils.to_categorical(y_train, n_classes)\n",
        "Y_test = np_utils.to_categorical(y_test, n_classes)\n",
        "print(\"shape after one hot encoding: \",Y_train.shape)\n"
      ],
      "execution_count": 17,
      "outputs": [
        {
          "output_type": "stream",
          "text": [
            "shape before one hot encoding:  (60000,)\n",
            "shape after one hot encoding:  (60000, 10)\n"
          ],
          "name": "stdout"
        }
      ]
    },
    {
      "cell_type": "code",
      "metadata": {
        "id": "OfyDascs0quR"
      },
      "source": [
        "model = Sequential()\n",
        "\n",
        "#1st hidden layer\n",
        "model.add(Dense(512, input_shape=(784,)))\n",
        "model.add(Activation('relu'))\n",
        "#model.add(Dropout(0.2))\n",
        "\n",
        "#2nd hidden layer\n",
        "model.add(Dense(784,))\n",
        "model.add(Activation('relu'))\n",
        "#model.add(Dropout(0.2))\n",
        "\n",
        "#3rd hidden layer\n",
        "model.add(Dense(128,))\n",
        "model.add(Activation('relu'))\n",
        "#model.add(Dropout(0.4))\n",
        "\n",
        "#output layer\n",
        "model.add(Dense(10))\n",
        "model.add(Activation('softmax'))\n"
      ],
      "execution_count": 18,
      "outputs": []
    },
    {
      "cell_type": "code",
      "metadata": {
        "colab": {
          "base_uri": "https://localhost:8080/"
        },
        "id": "SFVp7uBtxuhe",
        "outputId": "96067a0a-e845-4a2f-e10f-757122e32886"
      },
      "source": [
        "model.summary()"
      ],
      "execution_count": 19,
      "outputs": [
        {
          "output_type": "stream",
          "text": [
            "Model: \"sequential_1\"\n",
            "_________________________________________________________________\n",
            "Layer (type)                 Output Shape              Param #   \n",
            "=================================================================\n",
            "dense_4 (Dense)              (None, 512)               401920    \n",
            "_________________________________________________________________\n",
            "activation_4 (Activation)    (None, 512)               0         \n",
            "_________________________________________________________________\n",
            "dense_5 (Dense)              (None, 784)               402192    \n",
            "_________________________________________________________________\n",
            "activation_5 (Activation)    (None, 784)               0         \n",
            "_________________________________________________________________\n",
            "dense_6 (Dense)              (None, 128)               100480    \n",
            "_________________________________________________________________\n",
            "activation_6 (Activation)    (None, 128)               0         \n",
            "_________________________________________________________________\n",
            "dense_7 (Dense)              (None, 10)                1290      \n",
            "_________________________________________________________________\n",
            "activation_7 (Activation)    (None, 10)                0         \n",
            "=================================================================\n",
            "Total params: 905,882\n",
            "Trainable params: 905,882\n",
            "Non-trainable params: 0\n",
            "_________________________________________________________________\n"
          ],
          "name": "stdout"
        }
      ]
    },
    {
      "cell_type": "code",
      "metadata": {
        "id": "Ls7ab94IxzPq"
      },
      "source": [
        "#compiling the sequential model\n",
        "model.compile(loss='categorical_crossentropy', metrics=['accuracy'], optimizer='sgd')"
      ],
      "execution_count": 22,
      "outputs": []
    },
    {
      "cell_type": "code",
      "metadata": {
        "colab": {
          "base_uri": "https://localhost:8080/"
        },
        "id": "zjQ1KiuRyqn-",
        "outputId": "8cbc9451-548d-42e7-a48f-dbb463f0382e"
      },
      "source": [
        "#training the model and saving matrices in history\n",
        "history = model.fit(X_train, Y_train,\n",
        "                    batch_size=128, epochs=20,\n",
        "                    verbose=2,\n",
        "                    validation_data=(X_test, Y_test))"
      ],
      "execution_count": 23,
      "outputs": [
        {
          "output_type": "stream",
          "text": [
            "Epoch 1/20\n",
            "469/469 - 4s - loss: 1.0468 - accuracy: 0.7596 - val_loss: 0.4530 - val_accuracy: 0.8848\n",
            "Epoch 2/20\n",
            "469/469 - 1s - loss: 0.3933 - accuracy: 0.8924 - val_loss: 0.3283 - val_accuracy: 0.9068\n",
            "Epoch 3/20\n",
            "469/469 - 1s - loss: 0.3170 - accuracy: 0.9108 - val_loss: 0.2826 - val_accuracy: 0.9204\n",
            "Epoch 4/20\n",
            "469/469 - 1s - loss: 0.2802 - accuracy: 0.9203 - val_loss: 0.2562 - val_accuracy: 0.9285\n",
            "Epoch 5/20\n",
            "469/469 - 1s - loss: 0.2550 - accuracy: 0.9276 - val_loss: 0.2360 - val_accuracy: 0.9314\n",
            "Epoch 6/20\n",
            "469/469 - 1s - loss: 0.2351 - accuracy: 0.9334 - val_loss: 0.2202 - val_accuracy: 0.9356\n",
            "Epoch 7/20\n",
            "469/469 - 1s - loss: 0.2186 - accuracy: 0.9381 - val_loss: 0.2056 - val_accuracy: 0.9399\n",
            "Epoch 8/20\n",
            "469/469 - 1s - loss: 0.2044 - accuracy: 0.9416 - val_loss: 0.1977 - val_accuracy: 0.9429\n",
            "Epoch 9/20\n",
            "469/469 - 1s - loss: 0.1920 - accuracy: 0.9454 - val_loss: 0.1843 - val_accuracy: 0.9459\n",
            "Epoch 10/20\n",
            "469/469 - 1s - loss: 0.1804 - accuracy: 0.9491 - val_loss: 0.1790 - val_accuracy: 0.9471\n",
            "Epoch 11/20\n",
            "469/469 - 1s - loss: 0.1706 - accuracy: 0.9520 - val_loss: 0.1680 - val_accuracy: 0.9508\n",
            "Epoch 12/20\n",
            "469/469 - 1s - loss: 0.1614 - accuracy: 0.9545 - val_loss: 0.1607 - val_accuracy: 0.9536\n",
            "Epoch 13/20\n",
            "469/469 - 1s - loss: 0.1531 - accuracy: 0.9571 - val_loss: 0.1554 - val_accuracy: 0.9547\n",
            "Epoch 14/20\n",
            "469/469 - 1s - loss: 0.1454 - accuracy: 0.9585 - val_loss: 0.1439 - val_accuracy: 0.9571\n",
            "Epoch 15/20\n",
            "469/469 - 1s - loss: 0.1384 - accuracy: 0.9608 - val_loss: 0.1379 - val_accuracy: 0.9590\n",
            "Epoch 16/20\n",
            "469/469 - 1s - loss: 0.1319 - accuracy: 0.9631 - val_loss: 0.1377 - val_accuracy: 0.9602\n",
            "Epoch 17/20\n",
            "469/469 - 1s - loss: 0.1258 - accuracy: 0.9646 - val_loss: 0.1306 - val_accuracy: 0.9604\n",
            "Epoch 18/20\n",
            "469/469 - 1s - loss: 0.1204 - accuracy: 0.9661 - val_loss: 0.1251 - val_accuracy: 0.9630\n",
            "Epoch 19/20\n",
            "469/469 - 1s - loss: 0.1150 - accuracy: 0.9680 - val_loss: 0.1222 - val_accuracy: 0.9638\n",
            "Epoch 20/20\n",
            "469/469 - 1s - loss: 0.1101 - accuracy: 0.9689 - val_loss: 0.1174 - val_accuracy: 0.9662\n"
          ],
          "name": "stdout"
        }
      ]
    },
    {
      "cell_type": "code",
      "metadata": {
        "colab": {
          "base_uri": "https://localhost:8080/"
        },
        "id": "cu0vx5CPyqwy",
        "outputId": "2a52753d-70f8-4174-a49d-e4fed3cee73a"
      },
      "source": [
        "loss_and_matrics = model.evaluate(X_test, Y_test, verbose=2)\n",
        "\n",
        "print(\"test loss\", loss_and_matrics[0])\n",
        "print(\"test accuracy\", loss_and_matrics[1])\n"
      ],
      "execution_count": 24,
      "outputs": [
        {
          "output_type": "stream",
          "text": [
            "313/313 - 0s - loss: 0.1174 - accuracy: 0.9662\n",
            "test loss 0.11735192686319351\n",
            "test accuracy 0.9661999940872192\n"
          ],
          "name": "stdout"
        }
      ]
    }
  ]
}
